{
  "nbformat": 4,
  "nbformat_minor": 0,
  "metadata": {
    "colab": {
      "provenance": [],
      "authorship_tag": "ABX9TyMhFhvta3+J/dbCAaGDk9tt",
      "include_colab_link": true
    },
    "kernelspec": {
      "name": "python3",
      "display_name": "Python 3"
    },
    "language_info": {
      "name": "python"
    }
  },
  "cells": [
    {
      "cell_type": "markdown",
      "metadata": {
        "id": "view-in-github",
        "colab_type": "text"
      },
      "source": [
        "<a href=\"https://colab.research.google.com/github/williamconvertino/RAG-BERT-GPT2/blob/main/RAG_with_BERT_and_GPT2.ipynb\" target=\"_parent\"><img src=\"https://colab.research.google.com/assets/colab-badge.svg\" alt=\"Open In Colab\"/></a>"
      ]
    },
    {
      "cell_type": "markdown",
      "source": [
        "**RAG implementation using BERT and GPT2**"
      ],
      "metadata": {
        "id": "B3FCdy0XnoT4"
      }
    },
    {
      "cell_type": "markdown",
      "source": [
        "**Packages**"
      ],
      "metadata": {
        "id": "nbEwp8xgntWp"
      }
    },
    {
      "cell_type": "code",
      "source": [
        "!pip3 install -q -U tensorflow==2.15.0"
      ],
      "metadata": {
        "colab": {
          "base_uri": "https://localhost:8080/"
        },
        "id": "wKT6tLjP5qjy",
        "outputId": "1d9d39ac-1757-46e9-a4f3-49d629cf87c0"
      },
      "execution_count": null,
      "outputs": [
        {
          "output_type": "stream",
          "name": "stdout",
          "text": [
            "\u001b[2K     \u001b[90m━━━━━━━━━━━━━━━━━━━━━━━━━━━━━━━━━━━━━━━━\u001b[0m \u001b[32m475.2/475.2 MB\u001b[0m \u001b[31m3.1 MB/s\u001b[0m eta \u001b[36m0:00:00\u001b[0m\n",
            "\u001b[2K     \u001b[90m━━━━━━━━━━━━━━━━━━━━━━━━━━━━━━━━━━━━━━━━\u001b[0m \u001b[32m1.0/1.0 MB\u001b[0m \u001b[31m54.6 MB/s\u001b[0m eta \u001b[36m0:00:00\u001b[0m\n",
            "\u001b[?25h\u001b[31mERROR: pip's dependency resolver does not currently take into account all the packages that are installed. This behaviour is the source of the following dependency conflicts.\n",
            "tensorflow-text 2.16.1 requires tensorflow<2.17,>=2.16.1; platform_machine != \"arm64\" or platform_system != \"Darwin\", but you have tensorflow 2.15.0 which is incompatible.\u001b[0m\u001b[31m\n",
            "\u001b[0m"
          ]
        }
      ]
    },
    {
      "cell_type": "code",
      "source": [
        "!pip3 install -q -U tensorflow-text==2.15.0"
      ],
      "metadata": {
        "colab": {
          "base_uri": "https://localhost:8080/"
        },
        "id": "6uvtXC1unnR2",
        "outputId": "f3726f2b-0dd4-4124-e5bb-7ad3e117e7c9"
      },
      "execution_count": null,
      "outputs": [
        {
          "output_type": "stream",
          "name": "stdout",
          "text": [
            "\u001b[2K     \u001b[90m━━━━━━━━━━━━━━━━━━━━━━━━━━━━━━━━━━━━━━━━\u001b[0m \u001b[32m5.2/5.2 MB\u001b[0m \u001b[31m17.0 MB/s\u001b[0m eta \u001b[36m0:00:00\u001b[0m\n",
            "\u001b[?25h"
          ]
        }
      ]
    },
    {
      "cell_type": "code",
      "execution_count": null,
      "metadata": {
        "id": "T2MHPj_BnRBU"
      },
      "outputs": [],
      "source": [
        "! pip3 install -q pymilvus"
      ]
    },
    {
      "cell_type": "code",
      "source": [
        "import numpy as np\n",
        "import os\n",
        "import shutil\n",
        "import re\n",
        "import time\n",
        "import csv"
      ],
      "metadata": {
        "id": "F9k5syF1n1kv"
      },
      "execution_count": null,
      "outputs": []
    },
    {
      "cell_type": "code",
      "source": [
        "from google.colab import drive\n",
        "from google.colab import auth\n",
        "from google.colab import files"
      ],
      "metadata": {
        "id": "wnmQEveKn7e4"
      },
      "execution_count": null,
      "outputs": []
    },
    {
      "cell_type": "code",
      "source": [
        "import tensorflow as tf\n",
        "import tensorflow_hub as hub\n",
        "import tensorflow_text as text\n",
        "from tensorflow import keras"
      ],
      "metadata": {
        "id": "TDHfwKmLn6rr"
      },
      "execution_count": null,
      "outputs": []
    },
    {
      "cell_type": "code",
      "source": [
        "from transformers import GPT2Tokenizer, pipeline"
      ],
      "metadata": {
        "id": "eqsFgONw7eW-"
      },
      "execution_count": null,
      "outputs": []
    },
    {
      "cell_type": "code",
      "source": [
        "from pymilvus import connections, Collection, FieldSchema, CollectionSchema, DataType, utility, Milvus"
      ],
      "metadata": {
        "id": "kdL0hiEon8Ky"
      },
      "execution_count": null,
      "outputs": []
    },
    {
      "cell_type": "markdown",
      "source": [
        "**Model URLs**"
      ],
      "metadata": {
        "id": "fkF266P5ocpS"
      }
    },
    {
      "cell_type": "code",
      "source": [
        "BERT_ENCODER_URL = \"https://tfhub.dev/tensorflow/bert_en_uncased_L-12_H-768_A-12/3\"\n",
        "BERT_PREPROCESSOR_URL = \"https://tfhub.dev/tensorflow/bert_en_uncased_preprocess/3\""
      ],
      "metadata": {
        "id": "HeRMRrnaojJv"
      },
      "execution_count": null,
      "outputs": []
    },
    {
      "cell_type": "markdown",
      "source": [
        "**Google Drive**"
      ],
      "metadata": {
        "id": "oat9Eb1-o9ZI"
      }
    },
    {
      "cell_type": "code",
      "source": [
        "drive.mount('/content/drive/')\n",
        "HOME_DIR = '/content/drive/My Drive/RAG_BERT_GPT'\n",
        "os.chdir(HOME_DIR)"
      ],
      "metadata": {
        "colab": {
          "base_uri": "https://localhost:8080/"
        },
        "id": "cCv2Ha_fo9HZ",
        "outputId": "e64fdf32-ad64-4b1b-dfb5-578e7fbec50d"
      },
      "execution_count": null,
      "outputs": [
        {
          "output_type": "stream",
          "name": "stdout",
          "text": [
            "Drive already mounted at /content/drive/; to attempt to forcibly remount, call drive.mount(\"/content/drive/\", force_remount=True).\n"
          ]
        }
      ]
    },
    {
      "cell_type": "markdown",
      "source": [
        "**Milvus Setup**"
      ],
      "metadata": {
        "id": "GIONhI_hn-Wg"
      }
    },
    {
      "cell_type": "code",
      "source": [
        "milvus_uri=open('milvus_uri.txt').read().strip()\n",
        "token=open('milvus_api_key.txt').read().strip()\n",
        "connections.connect(\"default\", uri=milvus_uri, token=token)"
      ],
      "metadata": {
        "id": "2ZVOo2gLoB5g"
      },
      "execution_count": null,
      "outputs": []
    },
    {
      "cell_type": "code",
      "source": [
        "SEARCH_PARAMS = {\n",
        "    'metric_type': \"COSINE\",\n",
        "    'index_type': \"HNSW\",\n",
        "    'params': {\n",
        "        \"M\": 32,\n",
        "        \"efConstruction\": 64\n",
        "    },\n",
        "    'auto_tune': True\n",
        "  }\n",
        "COLLECTION_NAME = 'document_embeddings'\n",
        "DOCUMENT_EMBEDDING_COLLECTION = Collection(COLLECTION_NAME)"
      ],
      "metadata": {
        "id": "gmHziDEKqnLK"
      },
      "execution_count": null,
      "outputs": []
    },
    {
      "cell_type": "markdown",
      "source": [
        "**Database Initialization**"
      ],
      "metadata": {
        "id": "MT6VgjTcoqF3"
      }
    },
    {
      "cell_type": "code",
      "source": [
        "DOCUMENT_DIRECTORY = '/content/drive/MyDrive/RAG_BERT_GPT/news_database'"
      ],
      "metadata": {
        "id": "a6dz2axG7O39"
      },
      "execution_count": null,
      "outputs": []
    },
    {
      "cell_type": "code",
      "source": [
        "PUNC_REGEX = re.compile(r'(?<!\\w\\.\\w.)(?<![A-Z][a-z]\\.)(?<=\\.|\\?|!)\\s')"
      ],
      "metadata": {
        "id": "4Ic6JVnUpgoK"
      },
      "execution_count": null,
      "outputs": []
    },
    {
      "cell_type": "code",
      "source": [
        "def download_dataset():\n",
        "  KAGGLE_KEY_DIR = os.path.join(HOME_DIR, 'kaggle.json')\n",
        "\n",
        "  !pip3 install -q kaggle\n",
        "  !mkdir ~/.kaggle\n",
        "  !cp \"{KAGGLE_KEY_DIR}\" ~/.kaggle/\n",
        "  !chmod 600 ~/.kaggle/kaggle.json\n",
        "  !pip install kaggle\n",
        "  !kaggle datasets download -d jeet2016/us-financial-news-articles\n",
        "  !unzip us-financial-news-articles.zip"
      ],
      "metadata": {
        "id": "e-UV3LCgrfI_"
      },
      "execution_count": null,
      "outputs": []
    },
    {
      "cell_type": "code",
      "source": [
        "def build_schema():\n",
        "\n",
        "  if utility.has_collection(COLLECTION_NAME):\n",
        "        utility.drop_collection(COLLECTION_NAME)\n",
        "\n",
        "  id = FieldSchema(name='id', dtype=DataType.VARCHAR, max_length=10, is_primary=True)\n",
        "  embedding = FieldSchema(name='embedding', dtype=DataType.FLOAT_VECTOR, dim=768)\n",
        "\n",
        "  schema = CollectionSchema(fields=[id, embedding], description=\"BERT Embeddings for documents\")\n",
        "\n",
        "  collection = Collection(COLLECTION_NAME, schema)\n",
        "\n",
        "  collection.create_index(field_name='embedding', index_params=SEARCH_PARAMS)\n",
        "\n",
        "  collection.load()\n",
        "  return collection"
      ],
      "metadata": {
        "id": "C2GDUoKaowmC"
      },
      "execution_count": null,
      "outputs": []
    },
    {
      "cell_type": "code",
      "source": [
        "def build_database(max_chunk_size = 500, limit=2000):\n",
        "  DOCUMENT_EMBEDDING_COLLECTION = build_schema()\n",
        "  DOCUMENT_EMBEDDING_COLLECTION.load()\n",
        "\n",
        "  BERT_preprocessor = hub.load(BERT_PREPROCESSOR_URL)\n",
        "  BERT_encoder = hub.load(BERT_ENCODER_URL)\n",
        "\n",
        "  kaggle_dir = '/content/bbc-text.csv'\n",
        "\n",
        "  # Lettering helps avoid issues with Google Drive storage\n",
        "  file_letters = ['A', 'B', 'C', 'D', 'E']\n",
        "  file_letter_index = [0, 0, 0, 0, 0]\n",
        "  file_index = 0\n",
        "  file_count = 0\n",
        "\n",
        "  for file_letter in file_letters:\n",
        "    dir_path = os.path.join(DOCUMENT_DIRECTORY, file_letter)\n",
        "    if os.path.exists(dir_path):\n",
        "      shutil.rmtree(dir_path)\n",
        "\n",
        "  with open(kaggle_dir, newline='') as csvfile:\n",
        "    reader = csv.DictReader(csvfile)\n",
        "    for row in reader:\n",
        "      text = row['text']\n",
        "\n",
        "      if len(text) <= max_chunk_size:\n",
        "        chunks = [text]\n",
        "      else:\n",
        "        sentences = PUNC_REGEX.split(text)\n",
        "        sentences = [x for x in sentences if x.strip()]\n",
        "\n",
        "        chunks = []\n",
        "        current_chunk = ''\n",
        "\n",
        "        for sentence in sentences:\n",
        "          if len(current_chunk) + len(sentence) <= max_chunk_size:\n",
        "            current_chunk += sentence\n",
        "          else:\n",
        "            chunks.append(current_chunk)\n",
        "            current_chunk = sentence\n",
        "\n",
        "        chunks.append(current_chunk)\n",
        "\n",
        "      for chunk in chunks:\n",
        "\n",
        "        document_embedding = BERT_encoder(BERT_preprocessor(chunk)).numpy()[0]\n",
        "\n",
        "        doc_path = os.path.join(DOCUMENT_DIRECTORY, file_letters[file_index])\n",
        "        doc_filename = file_letters[file_index] + '_' + str(file_letter_index[file_index]).zfill(8)\n",
        "        file_letter_index[file_index] = file_letter_index[file_index] + 1\n",
        "\n",
        "        DOCUMENT_EMBEDDING_COLLECTION.insert([[doc_filename], [document_embedding]])\n",
        "\n",
        "        if not os.path.exists(doc_path):\n",
        "          os.makedirs(doc_path)\n",
        "\n",
        "        with open(os.path.join(doc_path, doc_filename + '.txt'), 'w') as doc_file:\n",
        "          doc_file.write(chunk)\n",
        "\n",
        "        print(f'Saved {doc_filename} to {doc_path}')\n",
        "        file_count = file_count + 1\n",
        "\n",
        "        if file_count >= limit:\n",
        "          print(\"Reached limit.\")\n",
        "          return\n",
        "\n",
        "      file_index = (file_index + 1) % len(file_letters)"
      ],
      "metadata": {
        "id": "moye-6eAoscg"
      },
      "execution_count": null,
      "outputs": []
    },
    {
      "cell_type": "markdown",
      "source": [
        "**BERT Document Retrieval**"
      ],
      "metadata": {
        "id": "tdxZQ5NJsmcw"
      }
    },
    {
      "cell_type": "code",
      "source": [
        "class BERTDocumentRetrieval:\n",
        "\n",
        "  def __init__(self, collection=DOCUMENT_EMBEDDING_COLLECTION, search_params=SEARCH_PARAMS, doc_directory=DOCUMENT_DIRECTORY):\n",
        "    self.collection = collection\n",
        "    self.doc_directory = doc_directory\n",
        "    self.search_params = search_params\n",
        "    self.BERT_preprocessor = hub.load(BERT_PREPROCESSOR_URL)\n",
        "    self.BERT_encoder = hub.load(BERT_ENCODER_URL)\n",
        "\n",
        "  def encode_text(self, text):\n",
        "    return self.BERT_encoder(self.BERT_preprocessor([text]))['pooled_output'].numpy()[0]\n",
        "\n",
        "  def get_doc_content(self, doc_id):\n",
        "    dir_path = self.doc_directory\n",
        "    letter_id = doc_id.split('_')[0]\n",
        "    file_path = os.path.join(dir_path, letter_id, doc_id + '.txt')\n",
        "\n",
        "    with open(file_path, 'r') as file:\n",
        "      return file.read()\n",
        "\n",
        "  def get_k_nearest_docs(self, query, k=10, verbose=False):\n",
        "    query_embedding = self.encode_text(query)\n",
        "    self.collection.load()\n",
        "    results = self.collection.search(anns_field='embedding', data=[query_embedding], limit=k, param=self.search_params)[0]\n",
        "\n",
        "    content = []\n",
        "\n",
        "    for doc in results:\n",
        "      doc_id = doc.id\n",
        "      doc_content = self.get_doc_content(doc_id)\n",
        "      content.append(doc_content)\n",
        "      if verbose:\n",
        "        print('='*10)\n",
        "        print(doc_id)\n",
        "        print(doc_content)\n",
        "\n",
        "    return content"
      ],
      "metadata": {
        "id": "tz2mPyGIsrSR"
      },
      "execution_count": null,
      "outputs": []
    },
    {
      "cell_type": "markdown",
      "source": [
        "**RAG with GPT**"
      ],
      "metadata": {
        "id": "GVQCQOT7sy_9"
      }
    },
    {
      "cell_type": "code",
      "source": [
        "class GPTRAG:\n",
        "  def __init__(self, document_retrieval):\n",
        "    self.dr = document_retrieval\n",
        "    self.tokenizer = GPT2Tokenizer.from_pretrained('gpt2')\n",
        "    self.generator = pipeline('text-generation', model='gpt2')\n",
        "\n",
        "  def generate_text(self, prompt, max_new_tokens=30, num_return_sequences=5, verbose=False):\n",
        "\n",
        "    if verbose:\n",
        "      print('='*10)\n",
        "      print(\"ORIGINAL PROMPT:\")\n",
        "      print(prompt)\n",
        "      responses = self.generator(prompt, max_new_tokens=max_new_tokens, num_return_sequences=num_return_sequences)\n",
        "      responses = [response['generated_text'] for response in responses]\n",
        "      print('='*10)\n",
        "      print(\"DEFAULT GPT RESPONSES:\")\n",
        "      for response in responses:\n",
        "        print(response)\n",
        "\n",
        "    documents = self.dr.get_k_nearest_docs(prompt, k=10)\n",
        "\n",
        "    MAX_TOKENS = 512\n",
        "    modified_prompt = prompt\n",
        "\n",
        "    for doc in documents:\n",
        "      num_doc_tokens = len(self.tokenizer(doc + ' ' + modified_prompt)['input_ids'])\n",
        "      if num_doc_tokens >= MAX_TOKENS:\n",
        "        break\n",
        "      else:\n",
        "        modified_prompt = doc + ' ' + modified_prompt\n",
        "\n",
        "    if verbose:\n",
        "      print('='*10)\n",
        "      print(\"RAG PROMPT:\")\n",
        "      print(modified_prompt)\n",
        "\n",
        "    responses = self.generator(modified_prompt, max_new_tokens=max_new_tokens, num_return_sequences=num_return_sequences)\n",
        "\n",
        "    responses = [response['generated_text'][len(modified_prompt) - len(prompt):] for response in responses]\n",
        "\n",
        "    if verbose:\n",
        "      print('='*10)\n",
        "      print(\"RAG RESPONSES:\")\n",
        "      for response in responses:\n",
        "        print(response)\n",
        "\n",
        "    return responses"
      ],
      "metadata": {
        "id": "nttHjAUks0vm"
      },
      "execution_count": null,
      "outputs": []
    },
    {
      "cell_type": "markdown",
      "source": [
        "**Example Usage**"
      ],
      "metadata": {
        "id": "BIerYWBqs3JD"
      }
    },
    {
      "cell_type": "code",
      "source": [
        "doc_retrieval = BERTDocumentRetrieval()"
      ],
      "metadata": {
        "id": "LFQcXm0js2uk"
      },
      "execution_count": null,
      "outputs": []
    },
    {
      "cell_type": "code",
      "source": [
        "prompt = \"seamen on the luxury cruise liner crystal harmony test a new technology. Holidaymakers enjoy balmy breezes as their crew tests the world's\""
      ],
      "metadata": {
        "id": "sADP3HBqtLup"
      },
      "execution_count": null,
      "outputs": []
    },
    {
      "cell_type": "code",
      "source": [
        "docs = doc_retrieval.get_k_nearest_docs(prompt, k=10, verbose=True)"
      ],
      "metadata": {
        "colab": {
          "base_uri": "https://localhost:8080/"
        },
        "id": "KDSlUN9Qttj_",
        "outputId": "8e67dc40-2cfc-401e-8352-a7ea1f81f8ff"
      },
      "execution_count": null,
      "outputs": [
        {
          "output_type": "stream",
          "name": "stdout",
          "text": [
            "==========\n",
            "A_00000142\n",
            "seamen sail into biometric future the luxury cruise liner crystal harmony  currently in the gulf of mexico  is the unlikely setting for tests of biometric technology. as holidaymakers enjoy balmy breezes  their ship s crew is testing prototype versions of the world s first internationally issued biometric id cards  the seafarer s equivalent of a passport.\n",
            "==========\n",
            "B_00000190\n",
            "the  ticking budget  facing the us the budget proposals laid out by the administration of us president george w bush are highly controversial.the washington-based economic policy institute  which tends to be critical of the president  looks at possible fault lines.us politicians and citizens of all political persuasions are in for a dose of shock therapy.without major changes in current policies and political prejudices  the federal budget simply cannot hold together.\n",
            "==========\n",
            "A_00000075\n",
            "telegraph newspapers axe 90 jobs the daily and sunday telegraph newspapers are axing 90 journalist jobs - 17% of their editorial staff. the telegraph group says the cuts are needed to fund an £150m investment in new printing facilities.journalists at the firm met on friday afternoon to discuss how to react to the surprise announcement.the cuts come against a background of fierce competition for readers and sluggish advertising revenues amid competition from online advertising.\n",
            "==========\n",
            "E_00000243\n",
            "apple has sold more than six million ipods since the gadget was launched and has an 87% share of the market for portable digital music players  market research firm npd group has reported. more than 200 million songs have been sold by the itunes music store since it was launched.\n",
            "==========\n",
            "D_00000246\n",
            "boeing unveils new 777 aircraft us aircraft firm boeing has unveiled its new long-distance 777 plane  as it tries to regain its position as the industry s leading manufacturer. the 777-200lr will be capable of flying almost 11 000 miles non-stop  linking cities such as london and sydney.boeing  in contrast to european rival airbus  hopes airlines will want to fly smaller aircraft over longer distances.\n",
            "==========\n",
            "D_00000361\n",
            "blair returns from peace mission prime minister tony blair has arrived back from his diplomatic mission to the middle east to try to resurrect the peace process. mr blair held talks with his israeli counterpart  ariel sharon  and the palestinian leader  mahmoud abbas.he confirmed that a renewed drive to reform the palestinian authority and address security issues would come at a london conference in march.mr blair also made a surprise trip to iraq this week.\n",
            "==========\n",
            "A_00000034\n",
            "royal couple watch nation s mood prince charles and camilla parker bowles are awaiting the nation s reaction after announcing they are to be married on 8 april. mrs parker bowles will take the title hrh duchess of cornwall after a civil ceremony to be held at windsor castle.a daily telegraph poll of 1 313 people suggests two-thirds of britons support the couple s decision to marry.but only 40% think mrs parker bowles should become princess consort as planned after charles becomes king.\n",
            "==========\n",
            "A_00000220\n",
            "alfa romeos  to get gm engines  fiat is to stop making six-cylinder petrol engines for its sporty alfa romeo subsidiary  unions at the italian carmaker have said. the unions claim fiat is to close the fiat powertrain plant at arese near milan and instead source six-cylinder engines from general motors.fiat has yet to comment on the matter  but the unions say the new engines will be made by gm in australia.the news comes a week after gm pulled out of an agreement to buy fiat.\n",
            "==========\n",
            "C_00000006\n",
            "crude oil prices back above $50 cold weather across parts of the united states and much of europe has pushed us crude oil prices above $50 a barrel for the first time in almost three months. freezing temperatures and heavy snowfall have increased demand for heating fuel in the us  where stocks are low.fresh falls in the value of the dollar helped carry prices above the $50 mark for the first time since november.a barrel of us crude oil closed up $2.80 to $51.15 in new york on tuesday.\n",
            "==========\n",
            "C_00000090\n",
            "chinese dam firm  defies beijing  the china three gorges project corp is refusing to obey a government order to stop construction of one of its giant dams  the chinese state press has said. the builder of the three gorges dam is continuing work on the sister xiluodu dam  said the beijing news.the xiluodu dam is one of 30 such large-scale construction projects called to a halt because of a lack of proper environmental checks.the beijing news said the company may instead choose to pay a fine.\n"
          ]
        }
      ]
    },
    {
      "cell_type": "code",
      "source": [
        "rag = GPTRAG(doc_retrieval)"
      ],
      "metadata": {
        "id": "SlbpHrO78J0b"
      },
      "execution_count": null,
      "outputs": []
    },
    {
      "cell_type": "code",
      "source": [
        "responses = rag.generate_text(prompt, verbose=True)"
      ],
      "metadata": {
        "colab": {
          "base_uri": "https://localhost:8080/"
        },
        "id": "oNT3lsGHtrFU",
        "outputId": "883f4dc0-9949-4fb3-d853-1f87af5e6f25"
      },
      "execution_count": null,
      "outputs": [
        {
          "output_type": "stream",
          "name": "stderr",
          "text": [
            "Setting `pad_token_id` to `eos_token_id`:50256 for open-end generation.\n"
          ]
        },
        {
          "output_type": "stream",
          "name": "stdout",
          "text": [
            "==========\n",
            "ORIGINAL PROMPT:\n",
            "seamen on the luxury cruise liner crystal harmony test a new technology. Holidaymakers enjoy balmy breezes as their crew tests the world's\n",
            "==========\n",
            "DEFAULT GPT RESPONSES:\n",
            "seamen on the luxury cruise liner crystal harmony test a new technology. Holidaymakers enjoy balmy breezes as their crew tests the world's most popular brands before opening the doors for the first time ever to Disney World to celebrate 100 years of the classic theme for a limited period. Disney,\n",
            "seamen on the luxury cruise liner crystal harmony test a new technology. Holidaymakers enjoy balmy breezes as their crew tests the world's newest luxury luxury liner by the name of the Star Wars Star Wars. From a new starfighter to a new rocket launcher, the Star Wars starfighter\n",
            "seamen on the luxury cruise liner crystal harmony test a new technology. Holidaymakers enjoy balmy breezes as their crew tests the world's signature holiday theme. The holiday mood continues with the first-half of the season.\n",
            "\n",
            "1.10.12 The final release of the first\n",
            "seamen on the luxury cruise liner crystal harmony test a new technology. Holidaymakers enjoy balmy breezes as their crew tests the world's most fashionable luxury luxury liner at New York City International Airport as part of a six-nation competition.\n",
            "seamen on the luxury cruise liner crystal harmony test a new technology. Holidaymakers enjoy balmy breezes as their crew tests the world's toughest sail.\n",
            "\n",
            "The test results show how the floating deck will reduce the risk of floating life and the potential for a second life in the ocean\n"
          ]
        },
        {
          "output_type": "stream",
          "name": "stderr",
          "text": [
            "Setting `pad_token_id` to `eos_token_id`:50256 for open-end generation.\n"
          ]
        },
        {
          "output_type": "stream",
          "name": "stdout",
          "text": [
            "==========\n",
            "RAG PROMPT:\n",
            "boeing unveils new 777 aircraft us aircraft firm boeing has unveiled its new long-distance 777 plane  as it tries to regain its position as the industry s leading manufacturer. the 777-200lr will be capable of flying almost 11 000 miles non-stop  linking cities such as london and sydney.boeing  in contrast to european rival airbus  hopes airlines will want to fly smaller aircraft over longer distances. apple has sold more than six million ipods since the gadget was launched and has an 87% share of the market for portable digital music players  market research firm npd group has reported. more than 200 million songs have been sold by the itunes music store since it was launched. telegraph newspapers axe 90 jobs the daily and sunday telegraph newspapers are axing 90 journalist jobs - 17% of their editorial staff. the telegraph group says the cuts are needed to fund an £150m investment in new printing facilities.journalists at the firm met on friday afternoon to discuss how to react to the surprise announcement.the cuts come against a background of fierce competition for readers and sluggish advertising revenues amid competition from online advertising. the  ticking budget  facing the us the budget proposals laid out by the administration of us president george w bush are highly controversial.the washington-based economic policy institute  which tends to be critical of the president  looks at possible fault lines.us politicians and citizens of all political persuasions are in for a dose of shock therapy.without major changes in current policies and political prejudices  the federal budget simply cannot hold together. seamen sail into biometric future the luxury cruise liner crystal harmony  currently in the gulf of mexico  is the unlikely setting for tests of biometric technology. as holidaymakers enjoy balmy breezes  their ship s crew is testing prototype versions of the world s first internationally issued biometric id cards  the seafarer s equivalent of a passport. seamen on the luxury cruise liner crystal harmony test a new technology. Holidaymakers enjoy balmy breezes as their crew tests the world's\n",
            "==========\n",
            "RAG RESPONSES:\n",
            "seamen on the luxury cruise liner crystal harmony test a new technology. Holidaymakers enjoy balmy breezes as their crew tests the world's first internationally issued biometric id cards with holographic passports to prove their allegiance to a flag. The government is giving an investment of £200m into\n",
            "seamen on the luxury cruise liner crystal harmony test a new technology. Holidaymakers enjoy balmy breezes as their crew tests the world's first internationally validated biometric iris. The sun doesn't shine directly on holidaymakers and it's the ocean that makes it shine the most as they\n",
            "seamen on the luxury cruise liner crystal harmony test a new technology. Holidaymakers enjoy balmy breezes as their crew tests the world's first internationally issued biometric card which is capable of scanning and matching data like a person's name, date of birth and identity. the holidaymakers at\n",
            "seamen on the luxury cruise liner crystal harmony test a new technology. Holidaymakers enjoy balmy breezes as their crew tests the world's first genetically modified ships. seaman s pilot discovers ways to interact with computer systems in the aircraft s cockpit. the seaman s pilot discovers ways to\n",
            "seamen on the luxury cruise liner crystal harmony test a new technology. Holidaymakers enjoy balmy breezes as their crew tests the world's first in-house bionic biometric identification cards. the United States has embarked upon the first test mission to track flight-ready ships. airliners\n"
          ]
        }
      ]
    },
    {
      "cell_type": "code",
      "source": [
        "responses = rag.generate_text(\"The economy in the UK is \", verbose=True)"
      ],
      "metadata": {
        "colab": {
          "base_uri": "https://localhost:8080/"
        },
        "id": "dNhP2ZBVn_G1",
        "outputId": "bfe8da1e-4389-4c21-f08b-a388716d48e1"
      },
      "execution_count": null,
      "outputs": [
        {
          "output_type": "stream",
          "name": "stderr",
          "text": [
            "Setting `pad_token_id` to `eos_token_id`:50256 for open-end generation.\n"
          ]
        },
        {
          "output_type": "stream",
          "name": "stdout",
          "text": [
            "==========\n",
            "ORIGINAL PROMPT:\n",
            "The economy in the UK is \n",
            "==========\n",
            "DEFAULT GPT RESPONSES:\n",
            "The economy in the UK is  growing faster than any other aspect of the global economy.\n",
            "This growth is clearly reflected in the value of the pound, which rose 0.2\n",
            "The economy in the UK is  still a large part of my view as a person as there are still people out there that say that the economy will be better as a result of\n",
            "The economy in the UK is  still strong, albeit  a lot weaker than after the Great Recession. There is still an unemployment rate that's higher than  we would like for\n",
            "The economy in the UK is  weak, and we are seeing growth slows in Europe. It's time to start cutting down on wasteful and unsustainable spending - something that will help us\n",
            "The economy in the UK is  still quite small compared to other emerging economies after a huge loss of £50bn in GDP last year.\n",
            "A new study by economists at the\n"
          ]
        },
        {
          "output_type": "stream",
          "name": "stderr",
          "text": [
            "Setting `pad_token_id` to `eos_token_id`:50256 for open-end generation.\n"
          ]
        },
        {
          "output_type": "stream",
          "name": "stdout",
          "text": [
            "==========\n",
            "RAG PROMPT:\n",
            "he later secured the film rights from paramount  enabling them to use the title it s a wonderful life. under the us foreign corrupt practices act  it is a crime for american firms to bribe foreign officials. there have been rumours that the deal could be in trouble because us government agencies fear it could offer china opportunities for industrial espionage.the reports of the possibility of an investigation into the risk sent lenovo s shares up 6% in late january. the payments are shown in bands of up £5 000  making it difficult to calculate the exact earnings. but that is the kind of problem most gadget fans can live with. if labour voters  stayed at home  in marginal seats they could see tory leader michael howard  coming in the back door to number 10 with the tradesman s key to number 10  getting into power   he added. in the album charts  athlete s latest offering tourist claimed the top spot  toppling the chemical brother s push the button down  which fell to number six. it blamed the agency s senior management for a  multitude of problems  within the agency  including for an apparent lack of training of frontline staff.  clark boyd is technology correspondent for the world  a bbc world service and wgbh-boston co-production. the plan would boost energy conservation  says the party - and insulation could save £100 every year for pensioner households  so using the money more  intelligently  than at present. The economy in the UK is \n",
            "==========\n",
            "RAG RESPONSES:\n",
            "The economy in the UK is  so weak that Britain must  use what it  gets  from foreign countries is  the US energy policy is far worse now and its people will need\n",
            "The economy in the UK is   so  slow  so much is   in its infancy   that this is a good idea  . The biggest risk is to the\n",
            "The economy in the UK is  growing by 11% a year  and the Tories want to raise tax rises on incomes above £1 million. we have  shown how  he got\n",
            "The economy in the UK is  growing   by 2.5% to 3.2 trillion   per annum  if all this is in progress \n",
            "\n",
            "by j\n",
            "The economy in the UK is   now being run by people from  the top down with no real idea about how  much the jobs have been created. michael said the\n"
          ]
        }
      ]
    }
  ]
}